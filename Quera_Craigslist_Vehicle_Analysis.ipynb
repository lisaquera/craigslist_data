{
 "cells": [
  {
   "cell_type": "code",
   "execution_count": 1,
   "metadata": {},
   "outputs": [],
   "source": [
    "import pandas as pd\n",
    "import numpy as np\n",
    "import matplotlib.pyplot as plt\n",
    "import seaborn as sns\n",
    "from sklearn.linear_model import LinearRegression\n",
    "from sklearn.tree import DecisionTreeRegressor\n",
    "from sklearn.ensemble import RandomForestRegressor\n",
    "from sklearn.model_selection import train_test_split\n",
    "from sklearn.metrics import r2_score, mean_squared_error, mean_absolute_error\n",
    "%matplotlib inline"
   ]
  },
  {
   "cell_type": "markdown",
   "metadata": {},
   "source": [
    "## Business Understanding\n",
    "\n",
    "The goal of this project is to get as much information as possible about used car sales from the data available. We have looked for any actionable guidance hidden in the data that might help a buyer optimize their experience and result. \n",
    "\n",
    "The dataset was helpfully scraped from Craiglist in January 2020 by Austin Reese and posted to kaggle here: https://www.kaggle.com/austinreese/craigslist-carstrucks-data"
   ]
  },
  {
   "cell_type": "markdown",
   "metadata": {},
   "source": [
    "## Data Understanding\n",
    "\n",
    "The data is a raw, messy dataset compiled of web scrapings of Craigslist so let's dig in.\n",
    "\n",
    "Style note: Chris Albon, in his book Machine Learning with Python Cookbook, recommends to avoid using inplace=True and to treat each dataframe as an immutable object. Since he has so much experience in production DS systems, I'm attempting to adhere to his recommendations in this notebook and hopefully develop good habits."
   ]
  },
  {
   "cell_type": "code",
   "execution_count": 2,
   "metadata": {},
   "outputs": [
    {
     "data": {
      "text/html": [
       "<div>\n",
       "<style scoped>\n",
       "    .dataframe tbody tr th:only-of-type {\n",
       "        vertical-align: middle;\n",
       "    }\n",
       "\n",
       "    .dataframe tbody tr th {\n",
       "        vertical-align: top;\n",
       "    }\n",
       "\n",
       "    .dataframe thead th {\n",
       "        text-align: right;\n",
       "    }\n",
       "</style>\n",
       "<table border=\"1\" class=\"dataframe\">\n",
       "  <thead>\n",
       "    <tr style=\"text-align: right;\">\n",
       "      <th></th>\n",
       "      <th>Unnamed: 0</th>\n",
       "      <th>id</th>\n",
       "      <th>url</th>\n",
       "      <th>region</th>\n",
       "      <th>region_url</th>\n",
       "      <th>price</th>\n",
       "      <th>year</th>\n",
       "      <th>manufacturer</th>\n",
       "      <th>model</th>\n",
       "      <th>condition</th>\n",
       "      <th>...</th>\n",
       "      <th>drive</th>\n",
       "      <th>size</th>\n",
       "      <th>type</th>\n",
       "      <th>paint_color</th>\n",
       "      <th>image_url</th>\n",
       "      <th>description</th>\n",
       "      <th>state</th>\n",
       "      <th>lat</th>\n",
       "      <th>long</th>\n",
       "      <th>posting_date</th>\n",
       "    </tr>\n",
       "  </thead>\n",
       "  <tbody>\n",
       "    <tr>\n",
       "      <th>0</th>\n",
       "      <td>0</td>\n",
       "      <td>7240372487</td>\n",
       "      <td>https://auburn.craigslist.org/ctd/d/auburn-uni...</td>\n",
       "      <td>auburn</td>\n",
       "      <td>https://auburn.craigslist.org</td>\n",
       "      <td>35990</td>\n",
       "      <td>2010.0</td>\n",
       "      <td>chevrolet</td>\n",
       "      <td>corvette grand sport</td>\n",
       "      <td>good</td>\n",
       "      <td>...</td>\n",
       "      <td>rwd</td>\n",
       "      <td>NaN</td>\n",
       "      <td>other</td>\n",
       "      <td>NaN</td>\n",
       "      <td>https://images.craigslist.org/00N0N_ipkbHVZYf4...</td>\n",
       "      <td>Carvana is the safer way to buy a car During t...</td>\n",
       "      <td>al</td>\n",
       "      <td>32.590000</td>\n",
       "      <td>-85.480000</td>\n",
       "      <td>2020-12-02T08:11:30-0600</td>\n",
       "    </tr>\n",
       "    <tr>\n",
       "      <th>1</th>\n",
       "      <td>1</td>\n",
       "      <td>7240309422</td>\n",
       "      <td>https://auburn.craigslist.org/cto/d/auburn-201...</td>\n",
       "      <td>auburn</td>\n",
       "      <td>https://auburn.craigslist.org</td>\n",
       "      <td>7500</td>\n",
       "      <td>2014.0</td>\n",
       "      <td>hyundai</td>\n",
       "      <td>sonata</td>\n",
       "      <td>excellent</td>\n",
       "      <td>...</td>\n",
       "      <td>fwd</td>\n",
       "      <td>NaN</td>\n",
       "      <td>sedan</td>\n",
       "      <td>NaN</td>\n",
       "      <td>https://images.craigslist.org/00s0s_gBHYmJ5o7y...</td>\n",
       "      <td>I'll move to another city and try to sell my c...</td>\n",
       "      <td>al</td>\n",
       "      <td>32.547500</td>\n",
       "      <td>-85.468200</td>\n",
       "      <td>2020-12-02T02:11:50-0600</td>\n",
       "    </tr>\n",
       "    <tr>\n",
       "      <th>2</th>\n",
       "      <td>2</td>\n",
       "      <td>7240224296</td>\n",
       "      <td>https://auburn.craigslist.org/cto/d/auburn-200...</td>\n",
       "      <td>auburn</td>\n",
       "      <td>https://auburn.craigslist.org</td>\n",
       "      <td>4900</td>\n",
       "      <td>2006.0</td>\n",
       "      <td>bmw</td>\n",
       "      <td>x3 3.0i</td>\n",
       "      <td>good</td>\n",
       "      <td>...</td>\n",
       "      <td>NaN</td>\n",
       "      <td>NaN</td>\n",
       "      <td>SUV</td>\n",
       "      <td>blue</td>\n",
       "      <td>https://images.craigslist.org/00B0B_5zgEGWPOrt...</td>\n",
       "      <td>Clean 2006 BMW X3 3.0I.  Beautiful and rare Bl...</td>\n",
       "      <td>al</td>\n",
       "      <td>32.616807</td>\n",
       "      <td>-85.464149</td>\n",
       "      <td>2020-12-01T19:50:41-0600</td>\n",
       "    </tr>\n",
       "  </tbody>\n",
       "</table>\n",
       "<p>3 rows × 26 columns</p>\n",
       "</div>"
      ],
      "text/plain": [
       "   Unnamed: 0          id                                                url  \\\n",
       "0           0  7240372487  https://auburn.craigslist.org/ctd/d/auburn-uni...   \n",
       "1           1  7240309422  https://auburn.craigslist.org/cto/d/auburn-201...   \n",
       "2           2  7240224296  https://auburn.craigslist.org/cto/d/auburn-200...   \n",
       "\n",
       "   region                     region_url  price    year manufacturer  \\\n",
       "0  auburn  https://auburn.craigslist.org  35990  2010.0    chevrolet   \n",
       "1  auburn  https://auburn.craigslist.org   7500  2014.0      hyundai   \n",
       "2  auburn  https://auburn.craigslist.org   4900  2006.0          bmw   \n",
       "\n",
       "                  model  condition  ... drive size   type paint_color  \\\n",
       "0  corvette grand sport       good  ...   rwd  NaN  other         NaN   \n",
       "1                sonata  excellent  ...   fwd  NaN  sedan         NaN   \n",
       "2               x3 3.0i       good  ...   NaN  NaN    SUV        blue   \n",
       "\n",
       "                                           image_url  \\\n",
       "0  https://images.craigslist.org/00N0N_ipkbHVZYf4...   \n",
       "1  https://images.craigslist.org/00s0s_gBHYmJ5o7y...   \n",
       "2  https://images.craigslist.org/00B0B_5zgEGWPOrt...   \n",
       "\n",
       "                                         description state        lat  \\\n",
       "0  Carvana is the safer way to buy a car During t...    al  32.590000   \n",
       "1  I'll move to another city and try to sell my c...    al  32.547500   \n",
       "2  Clean 2006 BMW X3 3.0I.  Beautiful and rare Bl...    al  32.616807   \n",
       "\n",
       "        long              posting_date  \n",
       "0 -85.480000  2020-12-02T08:11:30-0600  \n",
       "1 -85.468200  2020-12-02T02:11:50-0600  \n",
       "2 -85.464149  2020-12-01T19:50:41-0600  \n",
       "\n",
       "[3 rows x 26 columns]"
      ]
     },
     "execution_count": 2,
     "metadata": {},
     "output_type": "execute_result"
    }
   ],
   "source": [
    "filename = \"vehicles.csv\"\n",
    "all_v = pd.read_csv(filename)\n",
    "all_v.head(3)"
   ]
  },
  {
   "cell_type": "code",
   "execution_count": 3,
   "metadata": {},
   "outputs": [
    {
     "name": "stdout",
     "output_type": "stream",
     "text": [
      "<class 'pandas.core.frame.DataFrame'>\n",
      "RangeIndex: 458213 entries, 0 to 458212\n",
      "Data columns (total 26 columns):\n",
      " #   Column        Non-Null Count   Dtype  \n",
      "---  ------        --------------   -----  \n",
      " 0   Unnamed: 0    458213 non-null  int64  \n",
      " 1   id            458213 non-null  int64  \n",
      " 2   url           458213 non-null  object \n",
      " 3   region        458213 non-null  object \n",
      " 4   region_url    458213 non-null  object \n",
      " 5   price         458213 non-null  int64  \n",
      " 6   year          457163 non-null  float64\n",
      " 7   manufacturer  439993 non-null  object \n",
      " 8   model         453367 non-null  object \n",
      " 9   condition     265273 non-null  object \n",
      " 10  cylinders     287073 non-null  object \n",
      " 11  fuel          454976 non-null  object \n",
      " 12  odometer      402910 non-null  float64\n",
      " 13  title_status  455636 non-null  object \n",
      " 14  transmission  455771 non-null  object \n",
      " 15  VIN           270664 non-null  object \n",
      " 16  drive         324025 non-null  object \n",
      " 17  size          136865 non-null  object \n",
      " 18  type          345475 non-null  object \n",
      " 19  paint_color   317370 non-null  object \n",
      " 20  image_url     458185 non-null  object \n",
      " 21  description   458143 non-null  object \n",
      " 22  state         458213 non-null  object \n",
      " 23  lat           450765 non-null  float64\n",
      " 24  long          450765 non-null  float64\n",
      " 25  posting_date  458185 non-null  object \n",
      "dtypes: float64(4), int64(3), object(19)\n",
      "memory usage: 90.9+ MB\n"
     ]
    }
   ],
   "source": [
    "# get a sense for how messy the raw data is\n",
    "all_v.info()"
   ]
  },
  {
   "cell_type": "code",
   "execution_count": 4,
   "metadata": {},
   "outputs": [
    {
     "data": {
      "text/html": [
       "<div>\n",
       "<style scoped>\n",
       "    .dataframe tbody tr th:only-of-type {\n",
       "        vertical-align: middle;\n",
       "    }\n",
       "\n",
       "    .dataframe tbody tr th {\n",
       "        vertical-align: top;\n",
       "    }\n",
       "\n",
       "    .dataframe thead th {\n",
       "        text-align: right;\n",
       "    }\n",
       "</style>\n",
       "<table border=\"1\" class=\"dataframe\">\n",
       "  <thead>\n",
       "    <tr style=\"text-align: right;\">\n",
       "      <th></th>\n",
       "      <th>Unnamed: 0</th>\n",
       "      <th>id</th>\n",
       "      <th>price</th>\n",
       "      <th>year</th>\n",
       "      <th>odometer</th>\n",
       "      <th>lat</th>\n",
       "      <th>long</th>\n",
       "    </tr>\n",
       "  </thead>\n",
       "  <tbody>\n",
       "    <tr>\n",
       "      <th>count</th>\n",
       "      <td>458213.000000</td>\n",
       "      <td>4.582130e+05</td>\n",
       "      <td>4.582130e+05</td>\n",
       "      <td>457163.000000</td>\n",
       "      <td>4.029100e+05</td>\n",
       "      <td>450765.000000</td>\n",
       "      <td>450765.000000</td>\n",
       "    </tr>\n",
       "    <tr>\n",
       "      <th>mean</th>\n",
       "      <td>229106.000000</td>\n",
       "      <td>7.235233e+09</td>\n",
       "      <td>4.042093e+04</td>\n",
       "      <td>2010.746067</td>\n",
       "      <td>1.016698e+05</td>\n",
       "      <td>38.531925</td>\n",
       "      <td>-94.375824</td>\n",
       "    </tr>\n",
       "    <tr>\n",
       "      <th>std</th>\n",
       "      <td>132274.843786</td>\n",
       "      <td>4.594362e+06</td>\n",
       "      <td>8.194599e+06</td>\n",
       "      <td>8.868136</td>\n",
       "      <td>3.228623e+06</td>\n",
       "      <td>5.857378</td>\n",
       "      <td>18.076225</td>\n",
       "    </tr>\n",
       "    <tr>\n",
       "      <th>min</th>\n",
       "      <td>0.000000</td>\n",
       "      <td>7.208550e+09</td>\n",
       "      <td>0.000000e+00</td>\n",
       "      <td>1900.000000</td>\n",
       "      <td>0.000000e+00</td>\n",
       "      <td>-82.607549</td>\n",
       "      <td>-164.091797</td>\n",
       "    </tr>\n",
       "    <tr>\n",
       "      <th>25%</th>\n",
       "      <td>114553.000000</td>\n",
       "      <td>7.231953e+09</td>\n",
       "      <td>4.900000e+03</td>\n",
       "      <td>2008.000000</td>\n",
       "      <td>4.087700e+04</td>\n",
       "      <td>34.600000</td>\n",
       "      <td>-110.890427</td>\n",
       "    </tr>\n",
       "    <tr>\n",
       "      <th>50%</th>\n",
       "      <td>229106.000000</td>\n",
       "      <td>7.236409e+09</td>\n",
       "      <td>1.099500e+04</td>\n",
       "      <td>2013.000000</td>\n",
       "      <td>8.764100e+04</td>\n",
       "      <td>39.244500</td>\n",
       "      <td>-88.314889</td>\n",
       "    </tr>\n",
       "    <tr>\n",
       "      <th>75%</th>\n",
       "      <td>343659.000000</td>\n",
       "      <td>7.239321e+09</td>\n",
       "      <td>2.149500e+04</td>\n",
       "      <td>2016.000000</td>\n",
       "      <td>1.340000e+05</td>\n",
       "      <td>42.484503</td>\n",
       "      <td>-81.015022</td>\n",
       "    </tr>\n",
       "    <tr>\n",
       "      <th>max</th>\n",
       "      <td>458212.000000</td>\n",
       "      <td>7.241019e+09</td>\n",
       "      <td>3.615215e+09</td>\n",
       "      <td>2021.000000</td>\n",
       "      <td>2.043756e+09</td>\n",
       "      <td>82.049255</td>\n",
       "      <td>150.898969</td>\n",
       "    </tr>\n",
       "  </tbody>\n",
       "</table>\n",
       "</div>"
      ],
      "text/plain": [
       "          Unnamed: 0            id         price           year      odometer  \\\n",
       "count  458213.000000  4.582130e+05  4.582130e+05  457163.000000  4.029100e+05   \n",
       "mean   229106.000000  7.235233e+09  4.042093e+04    2010.746067  1.016698e+05   \n",
       "std    132274.843786  4.594362e+06  8.194599e+06       8.868136  3.228623e+06   \n",
       "min         0.000000  7.208550e+09  0.000000e+00    1900.000000  0.000000e+00   \n",
       "25%    114553.000000  7.231953e+09  4.900000e+03    2008.000000  4.087700e+04   \n",
       "50%    229106.000000  7.236409e+09  1.099500e+04    2013.000000  8.764100e+04   \n",
       "75%    343659.000000  7.239321e+09  2.149500e+04    2016.000000  1.340000e+05   \n",
       "max    458212.000000  7.241019e+09  3.615215e+09    2021.000000  2.043756e+09   \n",
       "\n",
       "                 lat           long  \n",
       "count  450765.000000  450765.000000  \n",
       "mean       38.531925     -94.375824  \n",
       "std         5.857378      18.076225  \n",
       "min       -82.607549    -164.091797  \n",
       "25%        34.600000    -110.890427  \n",
       "50%        39.244500     -88.314889  \n",
       "75%        42.484503     -81.015022  \n",
       "max        82.049255     150.898969  "
      ]
     },
     "execution_count": 4,
     "metadata": {},
     "output_type": "execute_result"
    }
   ],
   "source": [
    "all_v.describe()"
   ]
  },
  {
   "cell_type": "code",
   "execution_count": 5,
   "metadata": {},
   "outputs": [
    {
     "data": {
      "text/html": [
       "<div>\n",
       "<style scoped>\n",
       "    .dataframe tbody tr th:only-of-type {\n",
       "        vertical-align: middle;\n",
       "    }\n",
       "\n",
       "    .dataframe tbody tr th {\n",
       "        vertical-align: top;\n",
       "    }\n",
       "\n",
       "    .dataframe thead th {\n",
       "        text-align: right;\n",
       "    }\n",
       "</style>\n",
       "<table border=\"1\" class=\"dataframe\">\n",
       "  <thead>\n",
       "    <tr style=\"text-align: right;\">\n",
       "      <th></th>\n",
       "      <th>Name</th>\n",
       "      <th>Length</th>\n",
       "    </tr>\n",
       "  </thead>\n",
       "  <tbody>\n",
       "    <tr>\n",
       "      <th>0</th>\n",
       "      <td>Unnamed: 0</td>\n",
       "      <td>458213</td>\n",
       "    </tr>\n",
       "    <tr>\n",
       "      <th>1</th>\n",
       "      <td>id</td>\n",
       "      <td>458213</td>\n",
       "    </tr>\n",
       "    <tr>\n",
       "      <th>2</th>\n",
       "      <td>url</td>\n",
       "      <td>458213</td>\n",
       "    </tr>\n",
       "    <tr>\n",
       "      <th>3</th>\n",
       "      <td>region</td>\n",
       "      <td>405</td>\n",
       "    </tr>\n",
       "    <tr>\n",
       "      <th>4</th>\n",
       "      <td>region_url</td>\n",
       "      <td>413</td>\n",
       "    </tr>\n",
       "    <tr>\n",
       "      <th>5</th>\n",
       "      <td>price</td>\n",
       "      <td>16924</td>\n",
       "    </tr>\n",
       "    <tr>\n",
       "      <th>6</th>\n",
       "      <td>year</td>\n",
       "      <td>110</td>\n",
       "    </tr>\n",
       "    <tr>\n",
       "      <th>7</th>\n",
       "      <td>manufacturer</td>\n",
       "      <td>43</td>\n",
       "    </tr>\n",
       "    <tr>\n",
       "      <th>8</th>\n",
       "      <td>model</td>\n",
       "      <td>31520</td>\n",
       "    </tr>\n",
       "    <tr>\n",
       "      <th>9</th>\n",
       "      <td>condition</td>\n",
       "      <td>6</td>\n",
       "    </tr>\n",
       "    <tr>\n",
       "      <th>10</th>\n",
       "      <td>cylinders</td>\n",
       "      <td>8</td>\n",
       "    </tr>\n",
       "    <tr>\n",
       "      <th>11</th>\n",
       "      <td>fuel</td>\n",
       "      <td>5</td>\n",
       "    </tr>\n",
       "    <tr>\n",
       "      <th>12</th>\n",
       "      <td>odometer</td>\n",
       "      <td>108135</td>\n",
       "    </tr>\n",
       "    <tr>\n",
       "      <th>13</th>\n",
       "      <td>title_status</td>\n",
       "      <td>6</td>\n",
       "    </tr>\n",
       "    <tr>\n",
       "      <th>14</th>\n",
       "      <td>transmission</td>\n",
       "      <td>3</td>\n",
       "    </tr>\n",
       "    <tr>\n",
       "      <th>15</th>\n",
       "      <td>VIN</td>\n",
       "      <td>133620</td>\n",
       "    </tr>\n",
       "    <tr>\n",
       "      <th>16</th>\n",
       "      <td>drive</td>\n",
       "      <td>3</td>\n",
       "    </tr>\n",
       "    <tr>\n",
       "      <th>17</th>\n",
       "      <td>size</td>\n",
       "      <td>4</td>\n",
       "    </tr>\n",
       "    <tr>\n",
       "      <th>18</th>\n",
       "      <td>type</td>\n",
       "      <td>13</td>\n",
       "    </tr>\n",
       "    <tr>\n",
       "      <th>19</th>\n",
       "      <td>paint_color</td>\n",
       "      <td>12</td>\n",
       "    </tr>\n",
       "    <tr>\n",
       "      <th>20</th>\n",
       "      <td>image_url</td>\n",
       "      <td>285404</td>\n",
       "    </tr>\n",
       "    <tr>\n",
       "      <th>21</th>\n",
       "      <td>description</td>\n",
       "      <td>384347</td>\n",
       "    </tr>\n",
       "    <tr>\n",
       "      <th>22</th>\n",
       "      <td>state</td>\n",
       "      <td>51</td>\n",
       "    </tr>\n",
       "    <tr>\n",
       "      <th>23</th>\n",
       "      <td>lat</td>\n",
       "      <td>61179</td>\n",
       "    </tr>\n",
       "    <tr>\n",
       "      <th>24</th>\n",
       "      <td>long</td>\n",
       "      <td>61559</td>\n",
       "    </tr>\n",
       "    <tr>\n",
       "      <th>25</th>\n",
       "      <td>posting_date</td>\n",
       "      <td>423805</td>\n",
       "    </tr>\n",
       "  </tbody>\n",
       "</table>\n",
       "</div>"
      ],
      "text/plain": [
       "            Name  Length\n",
       "0     Unnamed: 0  458213\n",
       "1             id  458213\n",
       "2            url  458213\n",
       "3         region     405\n",
       "4     region_url     413\n",
       "5          price   16924\n",
       "6           year     110\n",
       "7   manufacturer      43\n",
       "8          model   31520\n",
       "9      condition       6\n",
       "10     cylinders       8\n",
       "11          fuel       5\n",
       "12      odometer  108135\n",
       "13  title_status       6\n",
       "14  transmission       3\n",
       "15           VIN  133620\n",
       "16         drive       3\n",
       "17          size       4\n",
       "18          type      13\n",
       "19   paint_color      12\n",
       "20     image_url  285404\n",
       "21   description  384347\n",
       "22         state      51\n",
       "23           lat   61179\n",
       "24          long   61559\n",
       "25  posting_date  423805"
      ]
     },
     "execution_count": 5,
     "metadata": {},
     "output_type": "execute_result"
    }
   ],
   "source": [
    "# how many unique instances for each variable?\n",
    "def get_value_diversity(df):\n",
    "    '''\n",
    "    Understand the diversity of a dataframe by getting the value counts for each column.\n",
    "    Parameters: dataframe\n",
    "    Returns: new dataframe with value counts for each column\n",
    "    '''\n",
    "    val_cts = pd.DataFrame(columns = ['Name', 'Length'])\n",
    "    for c in list(df.columns):\n",
    "        l = len(df[c].value_counts().index)\n",
    "        val_cts = val_cts.append({'Name': c, 'Length' : l}, ignore_index=True)\n",
    "    return val_cts\n",
    "        \n",
    "total_val_cts = get_value_diversity(all_v)\n",
    "total_val_cts.head(len(all_v))"
   ]
  },
  {
   "cell_type": "markdown",
   "metadata": {},
   "source": [
    "## Prepare the data for analysis"
   ]
  },
  {
   "cell_type": "markdown",
   "metadata": {},
   "source": [
    "## Which columns hold useful information?\n",
    "When you are interested in trends or predictions, data that is too specific, ie. has a very small instance to dataset ratio, is often uninformative.  For example, there are over 30k models in a 450k dataset.  For comparison, there are just 13 types of vehicles in the 450k dataset. The information we will have on each Type will have a much richer set of observations from which to draw. Even if we just keep the top 50 models, it quickly drops to a few hundred examples per model. (We'll get back to the specific model column discussion later.)\n",
    "\n",
    "Other columns we can assume from common-sense will be unhelpful are the url of the post, the region_url, the VIN, the transmission, the image_url, and the latitude/longitude coordinates (we have geographic info at state and region levels). We'll drop manufacturer because we're keeping model for now. We'll drop Unnamed but keep the id as an potentially useful index."
   ]
  },
  {
   "cell_type": "code",
   "execution_count": 6,
   "metadata": {},
   "outputs": [
    {
     "data": {
      "text/html": [
       "<div>\n",
       "<style scoped>\n",
       "    .dataframe tbody tr th:only-of-type {\n",
       "        vertical-align: middle;\n",
       "    }\n",
       "\n",
       "    .dataframe tbody tr th {\n",
       "        vertical-align: top;\n",
       "    }\n",
       "\n",
       "    .dataframe thead th {\n",
       "        text-align: right;\n",
       "    }\n",
       "</style>\n",
       "<table border=\"1\" class=\"dataframe\">\n",
       "  <thead>\n",
       "    <tr style=\"text-align: right;\">\n",
       "      <th></th>\n",
       "      <th>id</th>\n",
       "      <th>price</th>\n",
       "      <th>year</th>\n",
       "      <th>model</th>\n",
       "      <th>condition</th>\n",
       "      <th>cylinders</th>\n",
       "      <th>fuel</th>\n",
       "      <th>odometer</th>\n",
       "      <th>title_status</th>\n",
       "      <th>drive</th>\n",
       "      <th>size</th>\n",
       "      <th>type</th>\n",
       "      <th>paint_color</th>\n",
       "      <th>description</th>\n",
       "      <th>state</th>\n",
       "      <th>posting_date</th>\n",
       "    </tr>\n",
       "  </thead>\n",
       "  <tbody>\n",
       "    <tr>\n",
       "      <th>0</th>\n",
       "      <td>7240372487</td>\n",
       "      <td>35990</td>\n",
       "      <td>2010.0</td>\n",
       "      <td>corvette grand sport</td>\n",
       "      <td>good</td>\n",
       "      <td>8 cylinders</td>\n",
       "      <td>gas</td>\n",
       "      <td>32742.0</td>\n",
       "      <td>clean</td>\n",
       "      <td>rwd</td>\n",
       "      <td>NaN</td>\n",
       "      <td>other</td>\n",
       "      <td>NaN</td>\n",
       "      <td>Carvana is the safer way to buy a car During t...</td>\n",
       "      <td>al</td>\n",
       "      <td>2020-12-02T08:11:30-0600</td>\n",
       "    </tr>\n",
       "    <tr>\n",
       "      <th>1</th>\n",
       "      <td>7240309422</td>\n",
       "      <td>7500</td>\n",
       "      <td>2014.0</td>\n",
       "      <td>sonata</td>\n",
       "      <td>excellent</td>\n",
       "      <td>4 cylinders</td>\n",
       "      <td>gas</td>\n",
       "      <td>93600.0</td>\n",
       "      <td>clean</td>\n",
       "      <td>fwd</td>\n",
       "      <td>NaN</td>\n",
       "      <td>sedan</td>\n",
       "      <td>NaN</td>\n",
       "      <td>I'll move to another city and try to sell my c...</td>\n",
       "      <td>al</td>\n",
       "      <td>2020-12-02T02:11:50-0600</td>\n",
       "    </tr>\n",
       "    <tr>\n",
       "      <th>2</th>\n",
       "      <td>7240224296</td>\n",
       "      <td>4900</td>\n",
       "      <td>2006.0</td>\n",
       "      <td>x3 3.0i</td>\n",
       "      <td>good</td>\n",
       "      <td>6 cylinders</td>\n",
       "      <td>gas</td>\n",
       "      <td>87046.0</td>\n",
       "      <td>clean</td>\n",
       "      <td>NaN</td>\n",
       "      <td>NaN</td>\n",
       "      <td>SUV</td>\n",
       "      <td>blue</td>\n",
       "      <td>Clean 2006 BMW X3 3.0I.  Beautiful and rare Bl...</td>\n",
       "      <td>al</td>\n",
       "      <td>2020-12-01T19:50:41-0600</td>\n",
       "    </tr>\n",
       "  </tbody>\n",
       "</table>\n",
       "</div>"
      ],
      "text/plain": [
       "           id  price    year                 model  condition    cylinders  \\\n",
       "0  7240372487  35990  2010.0  corvette grand sport       good  8 cylinders   \n",
       "1  7240309422   7500  2014.0                sonata  excellent  4 cylinders   \n",
       "2  7240224296   4900  2006.0               x3 3.0i       good  6 cylinders   \n",
       "\n",
       "  fuel  odometer title_status drive size   type paint_color  \\\n",
       "0  gas   32742.0        clean   rwd  NaN  other         NaN   \n",
       "1  gas   93600.0        clean   fwd  NaN  sedan         NaN   \n",
       "2  gas   87046.0        clean   NaN  NaN    SUV        blue   \n",
       "\n",
       "                                         description state  \\\n",
       "0  Carvana is the safer way to buy a car During t...    al   \n",
       "1  I'll move to another city and try to sell my c...    al   \n",
       "2  Clean 2006 BMW X3 3.0I.  Beautiful and rare Bl...    al   \n",
       "\n",
       "               posting_date  \n",
       "0  2020-12-02T08:11:30-0600  \n",
       "1  2020-12-02T02:11:50-0600  \n",
       "2  2020-12-01T19:50:41-0600  "
      ]
     },
     "execution_count": 6,
     "metadata": {},
     "output_type": "execute_result"
    }
   ],
   "source": [
    "use_cols = ['id', 'price', 'year', 'model', 'condition', 'cylinders', 'fuel', 'odometer',\n",
    "       'drive', 'size', 'type', 'title_status', 'paint_color', 'description', 'state', 'posting_date']\n",
    "useless_cols = ['Unnamed: 0', 'url', 'region_url', 'VIN', 'image_url', 'region', 'lat', 'long',\n",
    "                'transmission', 'manufacturer', ]\n",
    "# assert that we have accounted for all columns\n",
    "assert len(list(all_v.columns)) == len(use_cols + useless_cols)\n",
    "# remove the useless columns\n",
    "useful = all_v.drop(useless_cols, axis=1)\n",
    "useful.set_index('id')\n",
    "useful.head(3)"
   ]
  },
  {
   "cell_type": "markdown",
   "metadata": {},
   "source": [
    "### Missing data\n",
    "A few columns are missing a significant percentage of their values. \n",
    "* The size of a vehicle can be inferred by its type so we can drop the Size column in favor of the better-populated Type. Although Type is also missing values, they are few enough for us to drop the rows and still have a good quantity.\n",
    "* Condition is only populated for about 50% of the items. Since one of the questions we'd like to answer is the strength of the relationship between condition and price, we should not impute these values. Only the rows with valid entries are useful for us so we will drop the others. \n",
    "* Paint_color is another attribute of investigative interest so it's worth some time investment to get it right. We will do a basic search of the Description to see if we can pull the color from there.\n",
    "* The number of Cylinders could be useful information. The most likely method to be accurate is to fill cyclinders based on Type but that would still lead to misinformation on underpowered SUVs or overpowered Compacts. So, in order to avoid possibly misleading noise, we'll drop cylinders.\n",
    "* Drive has similar issues to Cylinders in terms of potentially misleading imputed values.  However, it is of more investigative interest since one of our questions is whether 4WD has any more of a relationship to price in one region vs the other. Let's drop the missing rows. \n",
    "* Just to tidy up, we'll drop the few rows missing Description."
   ]
  },
  {
   "cell_type": "code",
   "execution_count": 7,
   "metadata": {},
   "outputs": [
    {
     "name": "stdout",
     "output_type": "stream",
     "text": [
      "<class 'pandas.core.frame.DataFrame'>\n",
      "Int64Index: 179730 entries, 0 to 458211\n",
      "Data columns (total 14 columns):\n",
      " #   Column        Non-Null Count   Dtype  \n",
      "---  ------        --------------   -----  \n",
      " 0   id            179730 non-null  int64  \n",
      " 1   price         179730 non-null  int64  \n",
      " 2   year          179730 non-null  float64\n",
      " 3   model         178786 non-null  object \n",
      " 4   condition     179730 non-null  object \n",
      " 5   fuel          179730 non-null  object \n",
      " 6   odometer      179730 non-null  float64\n",
      " 7   title_status  179730 non-null  object \n",
      " 8   drive         179730 non-null  object \n",
      " 9   type          179730 non-null  object \n",
      " 10  paint_color   159585 non-null  object \n",
      " 11  description   179730 non-null  object \n",
      " 12  state         179730 non-null  object \n",
      " 13  posting_date  179730 non-null  object \n",
      "dtypes: float64(2), int64(2), object(10)\n",
      "memory usage: 20.6+ MB\n"
     ]
    }
   ],
   "source": [
    "# deal with the missing data\n",
    "missing_cols = ['size', 'cylinders']\n",
    "more_useful = useful.drop(missing_cols, axis=1)\n",
    "missing_rows = ['odometer','type','condition','drive','description']\n",
    "cleaner = more_useful.dropna(subset=missing_rows, axis=0)\n",
    "cleaner.info()"
   ]
  },
  {
   "cell_type": "markdown",
   "metadata": {},
   "source": [
    "### Clip outliers\n",
    "I want to focus on helping the typical buyer so let's remove some confounding variables.\n",
    "\n",
    "\n"
   ]
  },
  {
   "cell_type": "code",
   "execution_count": 8,
   "metadata": {},
   "outputs": [
    {
     "name": "stdout",
     "output_type": "stream",
     "text": [
      "<class 'pandas.core.frame.DataFrame'>\n",
      "Int64Index: 160610 entries, 0 to 458211\n",
      "Data columns (total 13 columns):\n",
      " #   Column        Non-Null Count   Dtype  \n",
      "---  ------        --------------   -----  \n",
      " 0   id            160610 non-null  int64  \n",
      " 1   price         160610 non-null  int64  \n",
      " 2   year          160610 non-null  float64\n",
      " 3   model         160044 non-null  object \n",
      " 4   condition     160610 non-null  object \n",
      " 5   fuel          160610 non-null  object \n",
      " 6   odometer      160610 non-null  float64\n",
      " 7   drive         160610 non-null  object \n",
      " 8   type          160610 non-null  object \n",
      " 9   paint_color   141725 non-null  object \n",
      " 10  description   160610 non-null  object \n",
      " 11  state         160610 non-null  object \n",
      " 12  posting_date  160610 non-null  object \n",
      "dtypes: float64(2), int64(2), object(9)\n",
      "memory usage: 17.2+ MB\n"
     ]
    }
   ],
   "source": [
    "# Eliminate any title_status other than 'clean' and the salvage titles hiding in condition.\n",
    "clean_title = cleaner.loc[(cleaner['title_status'] == 'clean') & (cleaner['condition'].ne('salvage'))]\n",
    "#Avoid too old or classic cars or year data entry errors.\n",
    "no_classics = clean_title.loc[clean_title['year'] > 2000]\n",
    "# Avoid luxury cars or price data entry errors\n",
    "majority_prices = no_classics.loc[no_classics['price'] < 100000]\n",
    "# now that the title status is only a single value, it doesn't add anything to the analysis, drop the col\n",
    "majority = majority_prices.drop(['title_status'], axis=1)\n",
    "majority.info()"
   ]
  },
  {
   "cell_type": "markdown",
   "metadata": {},
   "source": [
    "### Location\n",
    "I tried several variations of location features, and think that a broader geo grouping adds value."
   ]
  },
  {
   "cell_type": "code",
   "execution_count": 9,
   "metadata": {},
   "outputs": [
    {
     "data": {
      "text/plain": [
       "3    42846\n",
       "2    41112\n",
       "1    39200\n",
       "4    37452\n",
       "Name: geo, dtype: int64"
      ]
     },
     "execution_count": 9,
     "metadata": {},
     "output_type": "execute_result"
    }
   ],
   "source": [
    "west = ['ca','or','wa','id','mt','co', 'az', 'nv','nm','ak','hi','wy','ut']\n",
    "east = ['ny', 'pa', 'ma','nj', 'va','dc','wv','ct','vt','md','ri','nh','me','de']\n",
    "mid = ['mi','oh','wi','il','ia','in', 'mn','ks','mo','sd','nd','ne']\n",
    "south = ['fl','tx', 'nc', 'tn','al','ms','ok', 'ga','sc','ky','ar','la']\n",
    "geo_labels = {1: \"West\", 2: \"Mid\", 3: \"South\", 4: \"East\"}\n",
    "#validate that all 50 states & DC are represented\n",
    "assert len(west)+len(east)+len(mid)+len(south) == 51\n",
    "\n",
    "majority['geo'] = 0\n",
    "majority.loc[(majority['state'].isin(west)), 'geo'] = 1\n",
    "majority.loc[(majority['state'].isin(mid)), 'geo'] = 2\n",
    "majority.loc[(majority['state'].isin(south)), 'geo'] = 3\n",
    "majority.loc[(majority['state'].isin(east)), 'geo'] = 4\n",
    "majority['geo'].value_counts()"
   ]
  },
  {
   "cell_type": "markdown",
   "metadata": {},
   "source": [
    "### Time\n",
    "Timestamps are too specific to provide actionable info for our buyer, so let's convert that to day of week."
   ]
  },
  {
   "cell_type": "code",
   "execution_count": 10,
   "metadata": {},
   "outputs": [],
   "source": [
    "# Day 0 is Monday\n",
    "day_labels = {0: 'Monday', 1: 'Tuesday', 2: 'Wednesday', 3: 'Thursday', 4: 'Friday', 5: 'Saturday', 6: 'Sunday'}\n",
    "# timezones often complicate calculations so make it consistent with utc=True\n",
    "majority['posting_date'] = pd.to_datetime(majority['posting_date'], utc=True)\n",
    "majority['posting_day'] = pd.DatetimeIndex(majority['posting_date']).dayofweek\n",
    "majority.drop(['posting_date'], axis=1, inplace=True)"
   ]
  },
  {
   "cell_type": "markdown",
   "metadata": {},
   "source": [
    "### Description\n",
    "The freeform description text could be used for multiple purposes:\n",
    "* use length to see if whether brief or verbose descriptions do better\n",
    "* derive other column's missing data, such as grabbing a color for paint_color\n",
    "* run it through an NLP model to determine sentiment analysis\n",
    "\n",
    "In the interests of time, I'll only do the first two. Once we've pulled the information we need, we can drop the description column."
   ]
  },
  {
   "cell_type": "code",
   "execution_count": 11,
   "metadata": {},
   "outputs": [],
   "source": [
    "## Get the length of the description * clip outliers\n",
    "len_col = majority['description'].apply(lambda row: len(row))\n",
    "majority = majority.assign(**{'desc_len':len_col.values})\n",
    "majority = majority.loc[majority['desc_len'] < 8000]"
   ]
  },
  {
   "cell_type": "code",
   "execution_count": 12,
   "metadata": {},
   "outputs": [
    {
     "name": "stdout",
     "output_type": "stream",
     "text": [
      "We were able to find colors for 15976 cars.\n"
     ]
    }
   ],
   "source": [
    "# Get the paint_color from the description when included in that text\n",
    "\n",
    "colors_to_search = ['white','black','silver','grey','blue','red', 'orange','brown','green']\n",
    "found_ctr = 0\n",
    "for index, row in majority.iterrows():    \n",
    "    if pd.isnull(row['paint_color']):\n",
    "        for w in colors_to_search:\n",
    "            if w in row['description']:\n",
    "                found_ctr += 1\n",
    "                # make sure the update the original dataframe with df.at\n",
    "                # row[col_name] = value will only update the working copy\n",
    "                majority.at[index, 'paint_color'] = w\n",
    "print(\"We were able to find colors for \"+str(found_ctr)+\" cars.\")\n",
    "# drop any remaining rows missing paint_color\n",
    "majority.dropna(subset=['paint_color'], axis=0, inplace=True)"
   ]
  },
  {
   "cell_type": "code",
   "execution_count": 13,
   "metadata": {},
   "outputs": [],
   "source": [
    "# Remove the description column now that we have extracted what we could from it\n",
    "# This dataframe is ready for analysis, although we may do more transformations before predictive modeling\n",
    "cleanest = majority.drop(['description'], axis=1)"
   ]
  },
  {
   "cell_type": "code",
   "execution_count": 14,
   "metadata": {},
   "outputs": [
    {
     "data": {
      "text/html": [
       "<div>\n",
       "<style scoped>\n",
       "    .dataframe tbody tr th:only-of-type {\n",
       "        vertical-align: middle;\n",
       "    }\n",
       "\n",
       "    .dataframe tbody tr th {\n",
       "        vertical-align: top;\n",
       "    }\n",
       "\n",
       "    .dataframe thead th {\n",
       "        text-align: right;\n",
       "    }\n",
       "</style>\n",
       "<table border=\"1\" class=\"dataframe\">\n",
       "  <thead>\n",
       "    <tr style=\"text-align: right;\">\n",
       "      <th></th>\n",
       "      <th>id</th>\n",
       "      <th>price</th>\n",
       "      <th>year</th>\n",
       "      <th>odometer</th>\n",
       "      <th>geo</th>\n",
       "      <th>posting_day</th>\n",
       "      <th>desc_len</th>\n",
       "    </tr>\n",
       "  </thead>\n",
       "  <tbody>\n",
       "    <tr>\n",
       "      <th>count</th>\n",
       "      <td>1.529790e+05</td>\n",
       "      <td>152979.000000</td>\n",
       "      <td>152979.000000</td>\n",
       "      <td>1.529790e+05</td>\n",
       "      <td>152979.000000</td>\n",
       "      <td>152979.000000</td>\n",
       "      <td>152979.000000</td>\n",
       "    </tr>\n",
       "    <tr>\n",
       "      <th>mean</th>\n",
       "      <td>7.235187e+09</td>\n",
       "      <td>15402.380856</td>\n",
       "      <td>2012.051020</td>\n",
       "      <td>1.094254e+05</td>\n",
       "      <td>2.508658</td>\n",
       "      <td>2.652122</td>\n",
       "      <td>2326.785833</td>\n",
       "    </tr>\n",
       "    <tr>\n",
       "      <th>std</th>\n",
       "      <td>4.616551e+06</td>\n",
       "      <td>12311.983352</td>\n",
       "      <td>4.770434</td>\n",
       "      <td>5.226228e+06</td>\n",
       "      <td>1.095229</td>\n",
       "      <td>1.859392</td>\n",
       "      <td>1943.395151</td>\n",
       "    </tr>\n",
       "    <tr>\n",
       "      <th>min</th>\n",
       "      <td>7.221912e+09</td>\n",
       "      <td>0.000000</td>\n",
       "      <td>2001.000000</td>\n",
       "      <td>0.000000e+00</td>\n",
       "      <td>1.000000</td>\n",
       "      <td>0.000000</td>\n",
       "      <td>1.000000</td>\n",
       "    </tr>\n",
       "    <tr>\n",
       "      <th>25%</th>\n",
       "      <td>7.231834e+09</td>\n",
       "      <td>5995.000000</td>\n",
       "      <td>2008.000000</td>\n",
       "      <td>4.054900e+04</td>\n",
       "      <td>2.000000</td>\n",
       "      <td>1.000000</td>\n",
       "      <td>462.000000</td>\n",
       "    </tr>\n",
       "    <tr>\n",
       "      <th>50%</th>\n",
       "      <td>7.236328e+09</td>\n",
       "      <td>11999.000000</td>\n",
       "      <td>2013.000000</td>\n",
       "      <td>8.960000e+04</td>\n",
       "      <td>3.000000</td>\n",
       "      <td>2.000000</td>\n",
       "      <td>1744.000000</td>\n",
       "    </tr>\n",
       "    <tr>\n",
       "      <th>75%</th>\n",
       "      <td>7.239366e+09</td>\n",
       "      <td>22000.000000</td>\n",
       "      <td>2016.000000</td>\n",
       "      <td>1.360000e+05</td>\n",
       "      <td>3.000000</td>\n",
       "      <td>4.000000</td>\n",
       "      <td>4175.000000</td>\n",
       "    </tr>\n",
       "    <tr>\n",
       "      <th>max</th>\n",
       "      <td>7.241019e+09</td>\n",
       "      <td>99999.000000</td>\n",
       "      <td>2021.000000</td>\n",
       "      <td>2.043756e+09</td>\n",
       "      <td>4.000000</td>\n",
       "      <td>6.000000</td>\n",
       "      <td>7999.000000</td>\n",
       "    </tr>\n",
       "  </tbody>\n",
       "</table>\n",
       "</div>"
      ],
      "text/plain": [
       "                 id          price           year      odometer  \\\n",
       "count  1.529790e+05  152979.000000  152979.000000  1.529790e+05   \n",
       "mean   7.235187e+09   15402.380856    2012.051020  1.094254e+05   \n",
       "std    4.616551e+06   12311.983352       4.770434  5.226228e+06   \n",
       "min    7.221912e+09       0.000000    2001.000000  0.000000e+00   \n",
       "25%    7.231834e+09    5995.000000    2008.000000  4.054900e+04   \n",
       "50%    7.236328e+09   11999.000000    2013.000000  8.960000e+04   \n",
       "75%    7.239366e+09   22000.000000    2016.000000  1.360000e+05   \n",
       "max    7.241019e+09   99999.000000    2021.000000  2.043756e+09   \n",
       "\n",
       "                 geo    posting_day       desc_len  \n",
       "count  152979.000000  152979.000000  152979.000000  \n",
       "mean        2.508658       2.652122    2326.785833  \n",
       "std         1.095229       1.859392    1943.395151  \n",
       "min         1.000000       0.000000       1.000000  \n",
       "25%         2.000000       1.000000     462.000000  \n",
       "50%         3.000000       2.000000    1744.000000  \n",
       "75%         3.000000       4.000000    4175.000000  \n",
       "max         4.000000       6.000000    7999.000000  "
      ]
     },
     "execution_count": 14,
     "metadata": {},
     "output_type": "execute_result"
    }
   ],
   "source": [
    "cleanest.describe()"
   ]
  },
  {
   "cell_type": "code",
   "execution_count": 15,
   "metadata": {},
   "outputs": [
    {
     "data": {
      "text/html": [
       "<div>\n",
       "<style scoped>\n",
       "    .dataframe tbody tr th:only-of-type {\n",
       "        vertical-align: middle;\n",
       "    }\n",
       "\n",
       "    .dataframe tbody tr th {\n",
       "        vertical-align: top;\n",
       "    }\n",
       "\n",
       "    .dataframe thead th {\n",
       "        text-align: right;\n",
       "    }\n",
       "</style>\n",
       "<table border=\"1\" class=\"dataframe\">\n",
       "  <thead>\n",
       "    <tr style=\"text-align: right;\">\n",
       "      <th></th>\n",
       "      <th>Name</th>\n",
       "      <th>Length</th>\n",
       "    </tr>\n",
       "  </thead>\n",
       "  <tbody>\n",
       "    <tr>\n",
       "      <th>0</th>\n",
       "      <td>id</td>\n",
       "      <td>152979</td>\n",
       "    </tr>\n",
       "    <tr>\n",
       "      <th>1</th>\n",
       "      <td>price</td>\n",
       "      <td>7008</td>\n",
       "    </tr>\n",
       "    <tr>\n",
       "      <th>2</th>\n",
       "      <td>year</td>\n",
       "      <td>21</td>\n",
       "    </tr>\n",
       "    <tr>\n",
       "      <th>3</th>\n",
       "      <td>model</td>\n",
       "      <td>13347</td>\n",
       "    </tr>\n",
       "    <tr>\n",
       "      <th>4</th>\n",
       "      <td>condition</td>\n",
       "      <td>5</td>\n",
       "    </tr>\n",
       "    <tr>\n",
       "      <th>5</th>\n",
       "      <td>fuel</td>\n",
       "      <td>5</td>\n",
       "    </tr>\n",
       "    <tr>\n",
       "      <th>6</th>\n",
       "      <td>odometer</td>\n",
       "      <td>50049</td>\n",
       "    </tr>\n",
       "    <tr>\n",
       "      <th>7</th>\n",
       "      <td>drive</td>\n",
       "      <td>3</td>\n",
       "    </tr>\n",
       "    <tr>\n",
       "      <th>8</th>\n",
       "      <td>type</td>\n",
       "      <td>13</td>\n",
       "    </tr>\n",
       "    <tr>\n",
       "      <th>9</th>\n",
       "      <td>paint_color</td>\n",
       "      <td>12</td>\n",
       "    </tr>\n",
       "    <tr>\n",
       "      <th>10</th>\n",
       "      <td>state</td>\n",
       "      <td>51</td>\n",
       "    </tr>\n",
       "    <tr>\n",
       "      <th>11</th>\n",
       "      <td>geo</td>\n",
       "      <td>4</td>\n",
       "    </tr>\n",
       "    <tr>\n",
       "      <th>12</th>\n",
       "      <td>posting_day</td>\n",
       "      <td>7</td>\n",
       "    </tr>\n",
       "    <tr>\n",
       "      <th>13</th>\n",
       "      <td>desc_len</td>\n",
       "      <td>7447</td>\n",
       "    </tr>\n",
       "  </tbody>\n",
       "</table>\n",
       "</div>"
      ],
      "text/plain": [
       "           Name  Length\n",
       "0            id  152979\n",
       "1         price    7008\n",
       "2          year      21\n",
       "3         model   13347\n",
       "4     condition       5\n",
       "5          fuel       5\n",
       "6      odometer   50049\n",
       "7         drive       3\n",
       "8          type      13\n",
       "9   paint_color      12\n",
       "10        state      51\n",
       "11          geo       4\n",
       "12  posting_day       7\n",
       "13     desc_len    7447"
      ]
     },
     "execution_count": 15,
     "metadata": {},
     "output_type": "execute_result"
    }
   ],
   "source": [
    "\n",
    "clean_div = get_value_diversity(cleanest)\n",
    "clean_div.head(len(clean_div))"
   ]
  },
  {
   "cell_type": "markdown",
   "metadata": {},
   "source": [
    "## Data Analysis\n",
    "Now that the raw data has been processed, the dataframe is ready to be analyzed."
   ]
  },
  {
   "cell_type": "code",
   "execution_count": 16,
   "metadata": {},
   "outputs": [
    {
     "name": "stdout",
     "output_type": "stream",
     "text": [
      "           posting_day    perc\n",
      "Wednesday        31596  20.654\n",
      "Tuesday          28035  18.326\n",
      "Monday           21151  13.826\n",
      "Saturday         20363  13.311\n",
      "Friday           19831  12.963\n",
      "Thursday         19555  12.783\n",
      "Sunday           12448   8.137\n"
     ]
    },
    {
     "data": {
      "image/png": "[encoded data removed]",
      "text/plain": [
       "<Figure size 360x360 with 1 Axes>"
      ]
     },
     "metadata": {
      "needs_background": "light"
     },
     "output_type": "display_data"
    }
   ],
   "source": [
    "# Which day has the most fresh postings?\n",
    "# show the distribution of posting days\n",
    "dd = pd.DataFrame(cleanest['posting_day'].value_counts())\n",
    "dd = dd.rename(index=day_labels)\n",
    "dd['perc'] = dd.div(dd.sum(axis=0), axis=1).mul(100).round(3)\n",
    "print(dd)\n",
    "dd_perc = dd.drop(['posting_day'], axis=1)\n",
    "\n",
    "fig, ax = plt.subplots(figsize=(5,5))\n",
    "dd_perc.plot.bar(rot=0, ax=ax);\n",
    "ax.set_xlabel(\"Day created posting\")\n",
    "ax.set_ylabel(\"Percentage of postings\")\n",
    "plt.xticks(rotation=45)\n",
    "fig.savefig('All_posting_days_5x5.png')"
   ]
  },
  {
   "cell_type": "code",
   "execution_count": 17,
   "metadata": {},
   "outputs": [
    {
     "data": {
      "image/png": "[encoded data removed]",
      "text/plain": [
       "<Figure size 360x360 with 1 Axes>"
      ]
     },
     "metadata": {
      "needs_background": "light"
     },
     "output_type": "display_data"
    }
   ],
   "source": [
    "# is there a relationship between paint color and price?\n",
    "paints = cleanest.groupby('paint_color')['price'].mean().sort_values(ascending=False)\n",
    "fig, ax = plt.subplots(figsize=(5,5))\n",
    "paints.plot.bar(rot=0.3, ax=ax);\n",
    "ax.set_title('Average prices per color')\n",
    "ax.set_xlabel('Paint Color')\n",
    "plt.xticks(rotation=45)\n",
    "ax.set_ylabel('Average Price')\n",
    "fig.savefig('All_color_price_5x5.png')"
   ]
  },
  {
   "cell_type": "markdown",
   "metadata": {},
   "source": [
    "### The Model feature\n",
    "The vehicle model is a complicated variable.  At 13k values, it is too diverse to use for predictive modeling and there are many data entry errors because it is a free text field.  However, there may be some analytic value. We'll keep it for now and do a quick data entry cleanup on the top two models.\n"
   ]
  },
  {
   "cell_type": "code",
   "execution_count": 18,
   "metadata": {},
   "outputs": [],
   "source": [
    "model_conv = {'model': {'f-150': 'f150', '1500': 'silverado 1500', 'silverado': 'silverado 1500'}}\n",
    "cleanest = cleanest.replace(model_conv)"
   ]
  },
  {
   "cell_type": "code",
   "execution_count": 19,
   "metadata": {},
   "outputs": [
    {
     "name": "stdout",
     "output_type": "stream",
     "text": [
      "17265.41\n"
     ]
    },
    {
     "data": {
      "image/png": "[encoded data removed]",
      "text/plain": [
       "<Figure size 360x360 with 1 Axes>"
      ]
     },
     "metadata": {
      "needs_background": "light"
     },
     "output_type": "display_data"
    }
   ],
   "source": [
    "silverado = cleanest.loc[cleanest['model'] == 'silverado 1500']\n",
    "silverado_avg_price = silverado['price'].mean().round(2)\n",
    "silverado_geo_prices = silverado.groupby('geo')['price'].mean()\n",
    "\n",
    "geo_labels = {1: \"West\", 2: \"Mid\", 3: \"South\", 4: \"East\"}\n",
    "\n",
    "silverado_geo_prices = silverado_geo_prices.rename(index=geo_labels)\n",
    "\n",
    "print(silverado_avg_price)\n",
    "silverado_geo_prices.head(5)\n",
    "\n",
    "# create a bar chart of the average prices per region\n",
    "fig, ax = plt.subplots(figsize=(5,5))\n",
    "silverado_geo_prices.plot(kind='bar', ax=ax)\n",
    "ax.set_title('Average Silverado Price per Geo', fontsize=16)\n",
    "ax.set_xlabel('Geo', fontsize=16)\n",
    "ax.set_ylabel('Avg Price', fontsize=16)\n",
    "# create a horizontal line showing the national average for comparison\n",
    "ax.axhline(silverado_avg_price, color=\"red\")\n",
    "ax.text(1.02, silverado_avg_price, \"Natl Avg \"+str(silverado_avg_price), va='center', ha=\"left\", bbox=dict(facecolor=\"w\",alpha=0.5),\n",
    "        transform=ax.get_yaxis_transform())\n",
    "fig.savefig('Silverado_price_geo_5x5.png')\n",
    "#show plot\n",
    "plt.show()\n"
   ]
  },
  {
   "cell_type": "code",
   "execution_count": null,
   "metadata": {},
   "outputs": [],
   "source": []
  },
  {
   "cell_type": "code",
   "execution_count": 20,
   "metadata": {},
   "outputs": [
    {
     "data": {
      "image/png": "[encoded data removed]",
      "text/plain": [
       "<Figure size 360x360 with 1 Axes>"
      ]
     },
     "metadata": {
      "needs_background": "light"
     },
     "output_type": "display_data"
    }
   ],
   "source": [
    "# See if there is any value in longer descriptions with a scatterplot of description length and price\n",
    "#desc_val = cleanest[['desc_len', 'price']] #no pattern for total set\n",
    "#desc_val = silverado[['desc_len', 'price']] #no pattern for most popular model\n",
    "#geo_test = cleanest.loc[cleanest['geo'] == 4] # no pattern for any geo\n",
    "year_test = cleanest.loc[cleanest['year'] < 2010] # no pattern for older cars\n",
    "desc_val = year_test[['desc_len', 'price']]\n",
    "\n",
    "fig, ax = plt.subplots(figsize=(5,5))\n",
    "desc_val.plot.scatter(x='desc_len', y='price', ax=ax)\n",
    "ax.set_title('Description Impact')\n",
    "ax.set_xlabel('Description length')\n",
    "ax.set_ylabel('Average Price')\n",
    "fig.savefig('Desc_len_older_cars_5x5.png')\n",
    "plt.show()"
   ]
  },
  {
   "cell_type": "code",
   "execution_count": null,
   "metadata": {},
   "outputs": [],
   "source": []
  },
  {
   "cell_type": "markdown",
   "metadata": {},
   "source": [
    "## Data Modeling"
   ]
  },
  {
   "cell_type": "code",
   "execution_count": 21,
   "metadata": {},
   "outputs": [
    {
     "data": {
      "text/html": [
       "<div>\n",
       "<style scoped>\n",
       "    .dataframe tbody tr th:only-of-type {\n",
       "        vertical-align: middle;\n",
       "    }\n",
       "\n",
       "    .dataframe tbody tr th {\n",
       "        vertical-align: top;\n",
       "    }\n",
       "\n",
       "    .dataframe thead th {\n",
       "        text-align: right;\n",
       "    }\n",
       "</style>\n",
       "<table border=\"1\" class=\"dataframe\">\n",
       "  <thead>\n",
       "    <tr style=\"text-align: right;\">\n",
       "      <th></th>\n",
       "      <th>Name</th>\n",
       "      <th>Length</th>\n",
       "    </tr>\n",
       "  </thead>\n",
       "  <tbody>\n",
       "    <tr>\n",
       "      <th>0</th>\n",
       "      <td>model</td>\n",
       "      <td>13344</td>\n",
       "    </tr>\n",
       "    <tr>\n",
       "      <th>1</th>\n",
       "      <td>condition</td>\n",
       "      <td>5</td>\n",
       "    </tr>\n",
       "    <tr>\n",
       "      <th>2</th>\n",
       "      <td>fuel</td>\n",
       "      <td>5</td>\n",
       "    </tr>\n",
       "    <tr>\n",
       "      <th>3</th>\n",
       "      <td>drive</td>\n",
       "      <td>3</td>\n",
       "    </tr>\n",
       "    <tr>\n",
       "      <th>4</th>\n",
       "      <td>type</td>\n",
       "      <td>13</td>\n",
       "    </tr>\n",
       "    <tr>\n",
       "      <th>5</th>\n",
       "      <td>paint_color</td>\n",
       "      <td>12</td>\n",
       "    </tr>\n",
       "    <tr>\n",
       "      <th>6</th>\n",
       "      <td>state</td>\n",
       "      <td>51</td>\n",
       "    </tr>\n",
       "  </tbody>\n",
       "</table>\n",
       "</div>"
      ],
      "text/plain": [
       "          Name Length\n",
       "0        model  13344\n",
       "1    condition      5\n",
       "2         fuel      5\n",
       "3        drive      3\n",
       "4         type     13\n",
       "5  paint_color     12\n",
       "6        state     51"
      ]
     },
     "execution_count": 21,
     "metadata": {},
     "output_type": "execute_result"
    }
   ],
   "source": [
    "# Before predictive modeling, we need to convert categorical values to numeric\n",
    "cat_vars = cleanest.select_dtypes(include=['object'])\n",
    "num_vars = cleanest.select_dtypes(include=['int64','float64'])\n",
    "cat_val_cts = get_value_diversity(cat_vars)\n",
    "cat_val_cts.head(len(cat_vars.columns))"
   ]
  },
  {
   "cell_type": "code",
   "execution_count": 22,
   "metadata": {},
   "outputs": [],
   "source": [
    "def one_hots(df, cols, prefixes):\n",
    "    '''\n",
    "    Convert categorical values to one-hot encodings.\n",
    "    Parameters: df = dataframe,\n",
    "        cols = array of categorical columns to be converted\n",
    "        prefixes = array of strings to be prepended to column names of one-hot cols\n",
    "    Returns: model_data = new dataframe with numerical columns representing one-hot encodings\n",
    "        model_cols = a list of all columns in the new dataframe\n",
    "    '''\n",
    "    model_data = pd.get_dummies(df, columns=cols, prefix=prefixes)\n",
    "    model_cols = list(model_data.columns)\n",
    "    return model_data, model_cols"
   ]
  },
  {
   "cell_type": "code",
   "execution_count": 23,
   "metadata": {},
   "outputs": [],
   "source": [
    "#defaults\n",
    "test_size=0.30\n",
    "random_state=17\n",
    "\n",
    "# get model datasets\n",
    "def get_train_test_data(model_data, target_col, test_size=0.30, random_state=17):\n",
    "    '''\n",
    "    Split dataset into training and testing datasets for model training\n",
    "    Parameters: model_data = dataframe,\n",
    "        target_col = string representing the y-value to be predicted\n",
    "        test-size = float represeting percentage of data to be held back for testing, default to 30%\n",
    "        random_state = int representing the random seed for reproducibility, default to 17\n",
    "    Returns: X-train = set of training columns and rows\n",
    "        X_test = set of testing columns and rows\n",
    "        y_train = target column to be learned in training\n",
    "        y_test = target column to be tested and scored against predictions\n",
    "    '''\n",
    "    X = model_data.drop([target_col], axis=1)\n",
    "    y = model_data[target_col]\n",
    "    #Split into train and test\n",
    "    X_train, X_test, y_train, y_test = train_test_split(X, y, test_size=test_size, random_state=random_state)\n",
    "    return X_train, X_test, y_train, y_test\n",
    "\n"
   ]
  },
  {
   "cell_type": "code",
   "execution_count": 24,
   "metadata": {},
   "outputs": [],
   "source": [
    "def train_and_score_model(model, md='model desc'):\n",
    "    '''\n",
    "    Convert categorical values to one-hot encodings.\n",
    "    Parameters: model = scikit-learn model object,\n",
    "        md = string describing the model being trained, default to model-desc\n",
    "    Returns: metrics_dict = dictionary holding the results of the training and testing runs\n",
    "    '''\n",
    "    # Train\n",
    "    model.fit(X_train, y_train)\n",
    "\n",
    "    #Predict \n",
    "    y_train_preds = model.predict(X_train)\n",
    "    y_test_preds = model.predict(X_test)\n",
    "\n",
    "\n",
    "    #Score the model\n",
    "    train_r2_score = r2_score(y_train, y_train_preds)\n",
    "    test_r2_score = r2_score(y_test, y_test_preds)\n",
    "    train_mse = mean_squared_error(y_train, y_train_preds)\n",
    "    test_mse = mean_squared_error(y_test, y_test_preds)\n",
    "    train_mae = mean_absolute_error(y_train, y_train_preds)\n",
    "    test_mae = mean_absolute_error(y_test, y_test_preds)\n",
    "    print(md)\n",
    "    print(\"R2 train: %.3f, test: %.3f\" % (train_r2_score, test_r2_score))\n",
    "    print(\"MSE train: %.3f, test: %.3f\" % (train_mse, test_mse))\n",
    "    print(\"MAE train: %.3f, test: %.3f\" % (train_mae, test_mae))\n",
    "    metrics_dict = {'trainR2' : train_r2_score, 'testR2': test_r2_score,\n",
    "                   'trainMSE': train_mse, 'testMSE': test_mse,\n",
    "                   'trainMAE' : train_mae, 'testMAE': test_mae}\n",
    "    return metrics_dict"
   ]
  },
  {
   "cell_type": "markdown",
   "metadata": {},
   "source": [
    "### Try modeling with minimal feature selection\n",
    "The only feature engineering we'll do here is to drop the noisiest variables - model has 13k and state has 51."
   ]
  },
  {
   "cell_type": "code",
   "execution_count": 25,
   "metadata": {},
   "outputs": [],
   "source": [
    "national = cleanest.drop(['model', 'state'], axis=1)\n",
    "national, national_cols = one_hots(national, cols=['condition','fuel','drive','type','paint_color'],\n",
    "                                  prefixes=['c','f','d','t','p'])"
   ]
  },
  {
   "cell_type": "code",
   "execution_count": 26,
   "metadata": {},
   "outputs": [
    {
     "data": {
      "image/png": "[encoded data removed]",
      "text/plain": [
       "<Figure size 864x864 with 2 Axes>"
      ]
     },
     "metadata": {
      "needs_background": "light"
     },
     "output_type": "display_data"
    }
   ],
   "source": [
    "national_corrs = national.corr()\n",
    "fig, ax = plt.subplots(figsize=(12,12))\n",
    "ax = sns.heatmap(national_corrs)\n",
    "plt.show()"
   ]
  },
  {
   "cell_type": "code",
   "execution_count": 27,
   "metadata": {},
   "outputs": [],
   "source": [
    "national_data = national.select_dtypes(include=['uint8','int64','float64'])\n",
    "X_train, X_test, y_train, y_test = get_train_test_data(national_data, target_col='price')"
   ]
  },
  {
   "cell_type": "code",
   "execution_count": 28,
   "metadata": {},
   "outputs": [
    {
     "name": "stdout",
     "output_type": "stream",
     "text": [
      "LinearRegression\n",
      "R2 train: 0.545, test: 0.534\n",
      "MSE train: 68857821.863, test: 70980497.700\n",
      "MAE train: 5636.410, test: 5697.269\n"
     ]
    },
    {
     "data": {
      "text/html": [
       "<div>\n",
       "<style scoped>\n",
       "    .dataframe tbody tr th:only-of-type {\n",
       "        vertical-align: middle;\n",
       "    }\n",
       "\n",
       "    .dataframe tbody tr th {\n",
       "        vertical-align: top;\n",
       "    }\n",
       "\n",
       "    .dataframe thead th {\n",
       "        text-align: right;\n",
       "    }\n",
       "</style>\n",
       "<table border=\"1\" class=\"dataframe\">\n",
       "  <thead>\n",
       "    <tr style=\"text-align: right;\">\n",
       "      <th></th>\n",
       "      <th>trainR2</th>\n",
       "      <th>testR2</th>\n",
       "      <th>trainMSE</th>\n",
       "      <th>testMSE</th>\n",
       "      <th>trainMAE</th>\n",
       "      <th>testMAE</th>\n",
       "    </tr>\n",
       "  </thead>\n",
       "  <tbody>\n",
       "    <tr>\n",
       "      <th>0</th>\n",
       "      <td>0.544902</td>\n",
       "      <td>0.533751</td>\n",
       "      <td>6.885782e+07</td>\n",
       "      <td>7.098050e+07</td>\n",
       "      <td>5636.410188</td>\n",
       "      <td>5697.26888</td>\n",
       "    </tr>\n",
       "  </tbody>\n",
       "</table>\n",
       "</div>"
      ],
      "text/plain": [
       "    trainR2    testR2      trainMSE       testMSE     trainMAE     testMAE\n",
       "0  0.544902  0.533751  6.885782e+07  7.098050e+07  5636.410188  5697.26888"
      ]
     },
     "execution_count": 28,
     "metadata": {},
     "output_type": "execute_result"
    }
   ],
   "source": [
    "# Baseline linear regression model\n",
    "# Create the model\n",
    "lm= LinearRegression(normalize=True) \n",
    "lm_results = train_and_score_model(lm, 'LinearRegression')\n",
    "lmdf = pd.DataFrame([lm_results])\n",
    "lmdf.head()\n",
    "\n"
   ]
  },
  {
   "cell_type": "code",
   "execution_count": 29,
   "metadata": {},
   "outputs": [
    {
     "name": "stdout",
     "output_type": "stream",
     "text": [
      "DecisionTreeRegressor\n",
      "R2 train: 0.534, test: 0.520\n",
      "MSE train: 70571360.359, test: 73108193.164\n",
      "MAE train: 5473.288, test: 5540.128\n"
     ]
    }
   ],
   "source": [
    "# Decision Tree\n",
    "dt = DecisionTreeRegressor(criterion='mae', max_depth=4) \n",
    "dt_results = train_and_score_model(dt, 'DecisionTreeRegressor')\n",
    "dtdf = pd.DataFrame([dt_results])"
   ]
  },
  {
   "cell_type": "code",
   "execution_count": 30,
   "metadata": {},
   "outputs": [
    {
     "name": "stdout",
     "output_type": "stream",
     "text": [
      "RandomForestRegressor\n",
      "R2 train: 0.977, test: 0.824\n",
      "MSE train: 3450797.587, test: 26864414.580\n",
      "MAE train: 935.827, test: 2570.691\n"
     ]
    }
   ],
   "source": [
    "# Random Forest\n",
    "# n_jobs=-1 to use all processors\n",
    "\n",
    "rf = RandomForestRegressor(n_estimators=600, criterion='mse', random_state=random_state, n_jobs=-1)\n",
    "rf_results = train_and_score_model(rf, 'RandomForestRegressor')\n",
    "rfdf = pd.DataFrame([rf_results])"
   ]
  },
  {
   "cell_type": "markdown",
   "metadata": {},
   "source": [
    "### Try modeling by geo\n",
    "By focusing on a geographic region, we can include the state feature to see if finer location data improves the model."
   ]
  },
  {
   "cell_type": "code",
   "execution_count": 31,
   "metadata": {},
   "outputs": [
    {
     "name": "stderr",
     "output_type": "stream",
     "text": [
      "/Users/lquera/opt/anaconda3/envs/tfp36/lib/python3.6/site-packages/pandas/core/frame.py:3994: SettingWithCopyWarning: \n",
      "A value is trying to be set on a copy of a slice from a DataFrame\n",
      "\n",
      "See the caveats in the documentation: https://pandas.pydata.org/pandas-docs/stable/user_guide/indexing.html#returning-a-view-versus-a-copy\n",
      "  errors=errors,\n"
     ]
    }
   ],
   "source": [
    "west_geo = cleanest.loc[cleanest['geo'] == 1]\n",
    "west_geo.drop(['model'], axis=1, inplace=True)\n",
    "west_geo, west_geo_cols = one_hots(west_geo, cols=['condition','fuel','drive','type','paint_color', 'state'],\n",
    "                                  prefixes=['c','f','d','t','p', 's'])"
   ]
  },
  {
   "cell_type": "code",
   "execution_count": 32,
   "metadata": {},
   "outputs": [],
   "source": [
    "west_geo_corrs = west_geo.corr()"
   ]
  },
  {
   "cell_type": "code",
   "execution_count": 33,
   "metadata": {},
   "outputs": [
    {
     "data": {
      "image/png": "[encoded data removed]",
      "text/plain": [
       "<Figure size 720x720 with 1 Axes>"
      ]
     },
     "metadata": {
      "needs_background": "light"
     },
     "output_type": "display_data"
    }
   ],
   "source": [
    "# prep the data for analyzing price and state correlations\n",
    "state_labels = {'s_ak': 'Alaska', 's_az': 'Ariz', 's_ca': 'Calif', 's_co': 'Colo', 's_hi': 'Hawaii', \n",
    "                's_id': 'Idaho', 's_mt': 'Mont', 's_nm': 'NewMex', 's_nv': 'Nev', 's_or': 'Oreg',\n",
    "               's_ut': 'Utah', 's_wa': 'Wash', 's_wy': 'Wyo'}\n",
    "drop_cols = ['id', 'year', 'odometer', 'geo', 'posting_day', 'desc_len', \n",
    "             'c_excellent', 'c_fair', 'c_good', 'c_like new', 'c_new', \n",
    "             'f_diesel', 'f_electric', 'f_gas', 'f_hybrid', 'f_other', \n",
    "             'd_4wd', 'd_fwd', 'd_rwd', \n",
    "             't_SUV', 't_bus', 't_convertible', 't_coupe', 't_hatchback', 't_mini-van', 't_offroad', \n",
    "             't_other', 't_pickup', 't_sedan', 't_truck', 't_van', 't_wagon', \n",
    "             'p_black', 'p_blue', 'p_brown', 'p_custom', 'p_green', 'p_grey', 'p_orange', 'p_purple', \n",
    "             'p_red', 'p_silver', 'p_white', 'p_yellow']\n",
    "state_corrs = west_geo_corrs.drop(drop_cols, axis=1)\n",
    "state_price = state_corrs.loc[state_corrs['price'] == 1.0]\n",
    "state_plot = state_price.drop(['price'], axis=1)\n",
    "state_plot = state_plot.rename(columns=state_labels)\n",
    "\n",
    "# visualize the relationship\n",
    "fig, ax = plt.subplots(figsize=(10,10))\n",
    "state_plot.plot.bar(rot=0, ax=ax);\n",
    "ax.set_title('Relationship between price and state')\n",
    "ax.set_label('Correlation of state and price')\n",
    "fig.savefig('West_state_price_10x10.png')"
   ]
  },
  {
   "cell_type": "code",
   "execution_count": 34,
   "metadata": {},
   "outputs": [],
   "source": [
    "west_data = west_geo.select_dtypes(include=['uint8','int64','float64'])\n",
    "X_train, X_test, y_train, y_test = get_train_test_data(west_data, target_col='price')"
   ]
  },
  {
   "cell_type": "code",
   "execution_count": 46,
   "metadata": {},
   "outputs": [
    {
     "name": "stdout",
     "output_type": "stream",
     "text": [
      "LinearRegressionWest\n",
      "R2 train: 0.403, test: 0.410\n",
      "MSE train: 86620129.066, test: 92347673.306\n",
      "MAE train: 6653.825, test: 6998.420\n"
     ]
    }
   ],
   "source": [
    "# Baseline linear regression model\n",
    "# Create the model\n",
    "lm= LinearRegression(normalize=True) \n",
    "lm_results = train_and_score_model(lm, 'LinearRegressionWest')\n",
    "lmdf_west = pd.DataFrame([lm_results])\n"
   ]
  },
  {
   "cell_type": "code",
   "execution_count": 36,
   "metadata": {},
   "outputs": [
    {
     "name": "stdout",
     "output_type": "stream",
     "text": [
      "DecisionTreeRegressorWest\n",
      "R2 train: 0.444, test: 0.429\n",
      "MSE train: 84058324.894, test: 88515976.361\n",
      "MAE train: 5720.371, test: 5843.832\n"
     ]
    }
   ],
   "source": [
    "# Decision Tree\n",
    "dt = DecisionTreeRegressor(criterion='mae', max_depth=4) \n",
    "dt_results = train_and_score_model(dt, 'DecisionTreeRegressorWest')\n",
    "dtdf_west = pd.DataFrame([dt_results])"
   ]
  },
  {
   "cell_type": "code",
   "execution_count": 37,
   "metadata": {},
   "outputs": [
    {
     "name": "stdout",
     "output_type": "stream",
     "text": [
      "RandomForestRegressorWest\n",
      "R2 train: 0.971, test: 0.779\n",
      "MSE train: 4458119.128, test: 34247261.947\n",
      "MAE train: 1147.487, test: 3191.018\n"
     ]
    }
   ],
   "source": [
    "# Random Forest\n",
    "# n_jobs=-1 to use all processors\n",
    "\n",
    "rf = RandomForestRegressor(n_estimators=600, criterion='mse', random_state=random_state, n_jobs=-1)\n",
    "rf_results = train_and_score_model(rf, 'RandomForestRegressorWest')\n",
    "rfdf_west = pd.DataFrame([rf_results])"
   ]
  },
  {
   "cell_type": "markdown",
   "metadata": {},
   "source": [
    "### Results\n",
    "Surprisingly, finer location did not improve"
   ]
  },
  {
   "cell_type": "markdown",
   "metadata": {},
   "source": [
    "### Test whether using a single vehicle model gets any better predictive results\n",
    "This is a very small dataset for training but it's worth a try to see if removing that variability helps or hurts our chances of good predictions.  Sometimes it is better to have a few good small models than one larger mediocre one."
   ]
  },
  {
   "cell_type": "code",
   "execution_count": 38,
   "metadata": {},
   "outputs": [
    {
     "name": "stdout",
     "output_type": "stream",
     "text": [
      "<class 'pandas.core.frame.DataFrame'>\n",
      "Int64Index: 3788 entries, 529 to 458018\n",
      "Data columns (total 14 columns):\n",
      " #   Column       Non-Null Count  Dtype  \n",
      "---  ------       --------------  -----  \n",
      " 0   id           3788 non-null   int64  \n",
      " 1   price        3788 non-null   int64  \n",
      " 2   year         3788 non-null   float64\n",
      " 3   model        3788 non-null   object \n",
      " 4   condition    3788 non-null   object \n",
      " 5   fuel         3788 non-null   object \n",
      " 6   odometer     3788 non-null   float64\n",
      " 7   drive        3788 non-null   object \n",
      " 8   type         3788 non-null   object \n",
      " 9   paint_color  3788 non-null   object \n",
      " 10  state        3788 non-null   object \n",
      " 11  geo          3788 non-null   int64  \n",
      " 12  posting_day  3788 non-null   int64  \n",
      " 13  desc_len     3788 non-null   int64  \n",
      "dtypes: float64(2), int64(5), object(7)\n",
      "memory usage: 443.9+ KB\n"
     ]
    }
   ],
   "source": [
    "silverado.info()"
   ]
  },
  {
   "cell_type": "code",
   "execution_count": 39,
   "metadata": {},
   "outputs": [],
   "source": [
    "silverado_model = silverado.drop(['model', 'type','state'], axis=1)\n",
    "silverado_model, silverado_model_cols = one_hots(silverado_model, cols=['condition','fuel','drive','paint_color'],\n",
    "                                  prefixes=['c','f','d','p'])"
   ]
  },
  {
   "cell_type": "code",
   "execution_count": 40,
   "metadata": {},
   "outputs": [],
   "source": [
    "silverado_corrs = silverado_model.corr()\n",
    "#silverado_corrs.head(len(silverado_corrs))"
   ]
  },
  {
   "cell_type": "code",
   "execution_count": 41,
   "metadata": {},
   "outputs": [
    {
     "data": {
      "image/png": "[encoded data removed]",
      "text/plain": [
       "<Figure size 720x720 with 2 Axes>"
      ]
     },
     "metadata": {
      "needs_background": "light"
     },
     "output_type": "display_data"
    }
   ],
   "source": [
    "fig, ax = plt.subplots(figsize=(10,10))\n",
    "ax = sns.heatmap(silverado_corrs)\n",
    "plt.show()"
   ]
  },
  {
   "cell_type": "code",
   "execution_count": 42,
   "metadata": {},
   "outputs": [],
   "source": [
    "silverado_data = silverado_model.select_dtypes(include=['uint8','int64','float64'])\n",
    "X_train, X_test, y_train, y_test = get_train_test_data(silverado_data, target_col='price')"
   ]
  },
  {
   "cell_type": "code",
   "execution_count": 43,
   "metadata": {},
   "outputs": [
    {
     "name": "stdout",
     "output_type": "stream",
     "text": [
      "LinearRegressionSilverado\n",
      "R2 train: 0.403, test: 0.410\n",
      "MSE train: 86620129.066, test: 92347673.306\n",
      "MAE train: 6653.825, test: 6998.420\n"
     ]
    },
    {
     "data": {
      "text/html": [
       "<div>\n",
       "<style scoped>\n",
       "    .dataframe tbody tr th:only-of-type {\n",
       "        vertical-align: middle;\n",
       "    }\n",
       "\n",
       "    .dataframe tbody tr th {\n",
       "        vertical-align: top;\n",
       "    }\n",
       "\n",
       "    .dataframe thead th {\n",
       "        text-align: right;\n",
       "    }\n",
       "</style>\n",
       "<table border=\"1\" class=\"dataframe\">\n",
       "  <thead>\n",
       "    <tr style=\"text-align: right;\">\n",
       "      <th></th>\n",
       "      <th>trainR2</th>\n",
       "      <th>testR2</th>\n",
       "      <th>trainMSE</th>\n",
       "      <th>testMSE</th>\n",
       "      <th>trainMAE</th>\n",
       "      <th>testMAE</th>\n",
       "    </tr>\n",
       "  </thead>\n",
       "  <tbody>\n",
       "    <tr>\n",
       "      <th>0</th>\n",
       "      <td>0.544902</td>\n",
       "      <td>0.533751</td>\n",
       "      <td>6.885782e+07</td>\n",
       "      <td>7.098050e+07</td>\n",
       "      <td>5636.410188</td>\n",
       "      <td>5697.26888</td>\n",
       "    </tr>\n",
       "  </tbody>\n",
       "</table>\n",
       "</div>"
      ],
      "text/plain": [
       "    trainR2    testR2      trainMSE       testMSE     trainMAE     testMAE\n",
       "0  0.544902  0.533751  6.885782e+07  7.098050e+07  5636.410188  5697.26888"
      ]
     },
     "execution_count": 43,
     "metadata": {},
     "output_type": "execute_result"
    }
   ],
   "source": [
    "# Baseline linear regression model\n",
    "# Create the model\n",
    "lm= LinearRegression(normalize=True) \n",
    "lm_results = train_and_score_model(lm, 'LinearRegressionSilverado')\n",
    "lmdf_silv = pd.DataFrame([lm_results])\n",
    "lmdf.head()\n",
    "\n"
   ]
  },
  {
   "cell_type": "code",
   "execution_count": 44,
   "metadata": {},
   "outputs": [
    {
     "name": "stdout",
     "output_type": "stream",
     "text": [
      "DecisionTreeRegressorSilverado\n",
      "R2 train: 0.338, test: 0.409\n",
      "MSE train: 96010345.157, test: 92549698.785\n",
      "MAE train: 5712.828, test: 5741.440\n"
     ]
    }
   ],
   "source": [
    "# Decision Tree\n",
    "dt = DecisionTreeRegressor(criterion='mae', max_depth=4) \n",
    "dt_results = train_and_score_model(dt, 'DecisionTreeRegressorSilverado')\n",
    "dtdf_silv = pd.DataFrame([dt_results])"
   ]
  },
  {
   "cell_type": "code",
   "execution_count": 45,
   "metadata": {},
   "outputs": [
    {
     "name": "stdout",
     "output_type": "stream",
     "text": [
      "RandomForestRegressorSilverado\n",
      "R2 train: 0.960, test: 0.721\n",
      "MSE train: 5752650.406, test: 43759451.728\n",
      "MAE train: 1385.027, test: 3759.407\n"
     ]
    }
   ],
   "source": [
    "# Random Forest\n",
    "# n_jobs=-1 to use all processors\n",
    "\n",
    "rf = RandomForestRegressor(n_estimators=600, criterion='mse', random_state=random_state, n_jobs=-1)\n",
    "rf_results = train_and_score_model(rf, 'RandomForestRegressorSilverado')\n",
    "rfdf_silv = pd.DataFrame([rf_results])"
   ]
  },
  {
   "cell_type": "markdown",
   "metadata": {},
   "source": [
    "## Evaluate Results\n",
    "\n",
    "With the most powerful model, the Random Forest Regressor, on the largest dataset, National, the Mean Absolute Error of $2570 is equivalent to about 6% of the national average price.  However, the significant difference between training and test results indicate that the model is probably overfit. \n",
    "\n",
    "The comparison models on more focused datasets did worse.  On a single vehicle model, the Silverado 1500 with an average price of $17,250, we would only be able to predict with a mean absolute error that is equivalent to 22% of the average price. The associated correlation heatmap gives a good indication that there aren't a lot of predictive indicators available for the training model to learn from. "
   ]
  },
  {
   "cell_type": "markdown",
   "metadata": {},
   "source": [
    "## Act upon Results\n",
    "Now that we’ve looked at the data to discover what it could tell us, there is an actionable strategy to get the best possible deal when buying a used car on Craigslist.\n",
    "\n",
    "*Start your search on a Wednesday or earlier.\n",
    "\n",
    "*Look at uncommon colors for the best deals\n",
    "\n",
    "*Check into other locations to see if the price difference makes traveling worthwhile\n",
    "\n",
    "*Don’t get distracted by fancier listings and stay focused on your priority attributes\n",
    "\n",
    "*Don’t just assume the asking price is based on good data. It might not be correlated with your priority attributes. Spend some time looking around at comparable models and be prepared to negotiate based on your own findings.\n",
    " "
   ]
  },
  {
   "cell_type": "code",
   "execution_count": null,
   "metadata": {},
   "outputs": [],
   "source": []
  },
  {
   "cell_type": "code",
   "execution_count": null,
   "metadata": {},
   "outputs": [],
   "source": []
  }
 ],
 "metadata": {
  "kernelspec": {
   "display_name": "Python 3",
   "language": "python",
   "name": "python3"
  },
  "language_info": {
   "codemirror_mode": {
    "name": "ipython",
    "version": 3
   },
   "file_extension": ".py",
   "mimetype": "text/x-python",
   "name": "python",
   "nbconvert_exporter": "python",
   "pygments_lexer": "ipython3",
   "version": "3.6.10"
  }
 },
 "nbformat": 4,
 "nbformat_minor": 4
}
